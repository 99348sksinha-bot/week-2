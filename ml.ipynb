{
 "cells": [
  {
   "cell_type": "code",
   "execution_count": 1,
   "id": "7df602b6",
   "metadata": {},
   "outputs": [],
   "source": [
    "import numpy as np\n",
    "import pandas as pd\n",
    "import joblib\n",
    "import random\n",
    "\n",
    "from sklearn.compose import ColumnTransformer\n",
    "from sklearn.impute import SimpleImputer\n",
    "from sklearn.metrics import mean_squared_error, r2_score\n",
    "from sklearn.model_selection import train_test_split, RandomizedSearchCV\n",
    "from sklearn.pipeline import Pipeline\n",
    "from sklearn.preprocessing import OneHotEncoder, StandardScaler\n",
    "from sklearn.ensemble import RandomForestRegressor, HistGradientBoostingRegressor, GradientBoostingRegressor\n",
    "from sklearn.linear_model import Ridge, Lasso, ElasticNet"
   ]
  },
  {
   "cell_type": "code",
   "execution_count": 2,
   "id": "d4ff8730",
   "metadata": {},
   "outputs": [
    {
     "data": {
      "text/html": [
       "<div>\n",
       "<style scoped>\n",
       "    .dataframe tbody tr th:only-of-type {\n",
       "        vertical-align: middle;\n",
       "    }\n",
       "\n",
       "    .dataframe tbody tr th {\n",
       "        vertical-align: top;\n",
       "    }\n",
       "\n",
       "    .dataframe thead th {\n",
       "        text-align: right;\n",
       "    }\n",
       "</style>\n",
       "<table border=\"1\" class=\"dataframe\">\n",
       "  <thead>\n",
       "    <tr style=\"text-align: right;\">\n",
       "      <th></th>\n",
       "      <th>Unnamed: 0</th>\n",
       "      <th>Area</th>\n",
       "      <th>Item</th>\n",
       "      <th>Year</th>\n",
       "      <th>hg/ha_yield</th>\n",
       "      <th>average_rain_fall_mm_per_year</th>\n",
       "      <th>pesticides_tonnes</th>\n",
       "      <th>avg_temp</th>\n",
       "    </tr>\n",
       "  </thead>\n",
       "  <tbody>\n",
       "    <tr>\n",
       "      <th>0</th>\n",
       "      <td>0</td>\n",
       "      <td>Albania</td>\n",
       "      <td>Maize</td>\n",
       "      <td>1990</td>\n",
       "      <td>36613</td>\n",
       "      <td>1485.0</td>\n",
       "      <td>121.0</td>\n",
       "      <td>16.37</td>\n",
       "    </tr>\n",
       "    <tr>\n",
       "      <th>1</th>\n",
       "      <td>1</td>\n",
       "      <td>Albania</td>\n",
       "      <td>Potatoes</td>\n",
       "      <td>1990</td>\n",
       "      <td>66667</td>\n",
       "      <td>1485.0</td>\n",
       "      <td>121.0</td>\n",
       "      <td>16.37</td>\n",
       "    </tr>\n",
       "    <tr>\n",
       "      <th>2</th>\n",
       "      <td>2</td>\n",
       "      <td>Albania</td>\n",
       "      <td>Rice, paddy</td>\n",
       "      <td>1990</td>\n",
       "      <td>23333</td>\n",
       "      <td>1485.0</td>\n",
       "      <td>121.0</td>\n",
       "      <td>16.37</td>\n",
       "    </tr>\n",
       "    <tr>\n",
       "      <th>3</th>\n",
       "      <td>3</td>\n",
       "      <td>Albania</td>\n",
       "      <td>Sorghum</td>\n",
       "      <td>1990</td>\n",
       "      <td>12500</td>\n",
       "      <td>1485.0</td>\n",
       "      <td>121.0</td>\n",
       "      <td>16.37</td>\n",
       "    </tr>\n",
       "    <tr>\n",
       "      <th>4</th>\n",
       "      <td>4</td>\n",
       "      <td>Albania</td>\n",
       "      <td>Soybeans</td>\n",
       "      <td>1990</td>\n",
       "      <td>7000</td>\n",
       "      <td>1485.0</td>\n",
       "      <td>121.0</td>\n",
       "      <td>16.37</td>\n",
       "    </tr>\n",
       "  </tbody>\n",
       "</table>\n",
       "</div>"
      ],
      "text/plain": [
       "   Unnamed: 0     Area         Item  Year  hg/ha_yield  \\\n",
       "0           0  Albania        Maize  1990        36613   \n",
       "1           1  Albania     Potatoes  1990        66667   \n",
       "2           2  Albania  Rice, paddy  1990        23333   \n",
       "3           3  Albania      Sorghum  1990        12500   \n",
       "4           4  Albania     Soybeans  1990         7000   \n",
       "\n",
       "   average_rain_fall_mm_per_year  pesticides_tonnes  avg_temp  \n",
       "0                         1485.0              121.0     16.37  \n",
       "1                         1485.0              121.0     16.37  \n",
       "2                         1485.0              121.0     16.37  \n",
       "3                         1485.0              121.0     16.37  \n",
       "4                         1485.0              121.0     16.37  "
      ]
     },
     "execution_count": 2,
     "metadata": {},
     "output_type": "execute_result"
    }
   ],
   "source": [
    "#-------------\n",
    "#load dataset\n",
    "#-------------\n",
    "df = pd.read_csv(\"yield_df.csv\")\n",
    "df.head()"
   ]
  },
  {
   "cell_type": "code",
   "execution_count": 3,
   "id": "0cccd65e",
   "metadata": {},
   "outputs": [
    {
     "name": "stdout",
     "output_type": "stream",
     "text": [
      "Dataset shape: (28242, 7)\n"
     ]
    },
    {
     "data": {
      "text/html": [
       "<div>\n",
       "<style scoped>\n",
       "    .dataframe tbody tr th:only-of-type {\n",
       "        vertical-align: middle;\n",
       "    }\n",
       "\n",
       "    .dataframe tbody tr th {\n",
       "        vertical-align: top;\n",
       "    }\n",
       "\n",
       "    .dataframe thead th {\n",
       "        text-align: right;\n",
       "    }\n",
       "</style>\n",
       "<table border=\"1\" class=\"dataframe\">\n",
       "  <thead>\n",
       "    <tr style=\"text-align: right;\">\n",
       "      <th></th>\n",
       "      <th>Area</th>\n",
       "      <th>Item</th>\n",
       "      <th>Year</th>\n",
       "      <th>hg/ha_yield</th>\n",
       "      <th>average_rain_fall_mm_per_year</th>\n",
       "      <th>pesticides_tonnes</th>\n",
       "      <th>avg_temp</th>\n",
       "    </tr>\n",
       "  </thead>\n",
       "  <tbody>\n",
       "    <tr>\n",
       "      <th>0</th>\n",
       "      <td>Albania</td>\n",
       "      <td>Maize</td>\n",
       "      <td>1990</td>\n",
       "      <td>36613</td>\n",
       "      <td>1485.0</td>\n",
       "      <td>121.0</td>\n",
       "      <td>16.37</td>\n",
       "    </tr>\n",
       "    <tr>\n",
       "      <th>1</th>\n",
       "      <td>Albania</td>\n",
       "      <td>Potatoes</td>\n",
       "      <td>1990</td>\n",
       "      <td>66667</td>\n",
       "      <td>1485.0</td>\n",
       "      <td>121.0</td>\n",
       "      <td>16.37</td>\n",
       "    </tr>\n",
       "    <tr>\n",
       "      <th>2</th>\n",
       "      <td>Albania</td>\n",
       "      <td>Rice, paddy</td>\n",
       "      <td>1990</td>\n",
       "      <td>23333</td>\n",
       "      <td>1485.0</td>\n",
       "      <td>121.0</td>\n",
       "      <td>16.37</td>\n",
       "    </tr>\n",
       "    <tr>\n",
       "      <th>3</th>\n",
       "      <td>Albania</td>\n",
       "      <td>Sorghum</td>\n",
       "      <td>1990</td>\n",
       "      <td>12500</td>\n",
       "      <td>1485.0</td>\n",
       "      <td>121.0</td>\n",
       "      <td>16.37</td>\n",
       "    </tr>\n",
       "    <tr>\n",
       "      <th>4</th>\n",
       "      <td>Albania</td>\n",
       "      <td>Soybeans</td>\n",
       "      <td>1990</td>\n",
       "      <td>7000</td>\n",
       "      <td>1485.0</td>\n",
       "      <td>121.0</td>\n",
       "      <td>16.37</td>\n",
       "    </tr>\n",
       "  </tbody>\n",
       "</table>\n",
       "</div>"
      ],
      "text/plain": [
       "      Area         Item  Year  hg/ha_yield  average_rain_fall_mm_per_year  \\\n",
       "0  Albania        Maize  1990        36613                         1485.0   \n",
       "1  Albania     Potatoes  1990        66667                         1485.0   \n",
       "2  Albania  Rice, paddy  1990        23333                         1485.0   \n",
       "3  Albania      Sorghum  1990        12500                         1485.0   \n",
       "4  Albania     Soybeans  1990         7000                         1485.0   \n",
       "\n",
       "   pesticides_tonnes  avg_temp  \n",
       "0              121.0     16.37  \n",
       "1              121.0     16.37  \n",
       "2              121.0     16.37  \n",
       "3              121.0     16.37  \n",
       "4              121.0     16.37  "
      ]
     },
     "execution_count": 3,
     "metadata": {},
     "output_type": "execute_result"
    }
   ],
   "source": [
    "#--------------\n",
    "# Drop unnecessary index column if present\n",
    "#-----------------\n",
    "drop_cols = [c for c in df.columns if c.lower().startswith(\"unnamed\")]\n",
    "df = df.drop(columns=drop_cols, errors=\"ignore\")\n",
    "\n",
    "print(\"Dataset shape:\", df.shape)\n",
    "df.head()"
   ]
  },
  {
   "cell_type": "code",
   "execution_count": 4,
   "id": "463af5dc",
   "metadata": {},
   "outputs": [
    {
     "name": "stdout",
     "output_type": "stream",
     "text": [
      "Categorical cols: ['Area', 'Item']\n",
      "Numeric cols: ['Year', 'average_rain_fall_mm_per_year', 'pesticides_tonnes', 'avg_temp']\n"
     ]
    }
   ],
   "source": [
    "# -------------------\n",
    "# Features & target\n",
    "# -------------------\n",
    "X = df.drop(columns=[\"hg/ha_yield\"])\n",
    "y = df[\"hg/ha_yield\"]\n",
    "\n",
    "# optional log-transform for stability\n",
    "y_log = np.log1p(y)\n",
    "\n",
    "# Identify categorical & numeric columns\n",
    "cat_cols = [\"Area\", \"Item\"]\n",
    "num_cols = [c for c in X.columns if c not in cat_cols]\n",
    "\n",
    "print(\"Categorical cols:\", cat_cols)\n",
    "print(\"Numeric cols:\", num_cols)"
   ]
  },
  {
   "cell_type": "code",
   "execution_count": 5,
   "id": "c4b18a3b",
   "metadata": {},
   "outputs": [],
   "source": [
    "# -------------------\n",
    "# Preprocessing\n",
    "# -------------------\n",
    "preprocessor = ColumnTransformer(\n",
    "    transformers=[\n",
    "        (\"cat\", Pipeline([\n",
    "            (\"imputer\", SimpleImputer(strategy=\"most_frequent\")),\n",
    "            (\"onehot\", OneHotEncoder(handle_unknown=\"ignore\", sparse_output=False, min_frequency=10)),\n",
    "        ]), cat_cols),\n",
    "        (\"num\", Pipeline([\n",
    "            (\"imputer\", SimpleImputer(strategy=\"median\")),\n",
    "            (\"scaler\", StandardScaler()),\n",
    "        ]), num_cols),\n",
    "    ],\n",
    "    remainder=\"drop\"\n",
    ")"
   ]
  },
  {
   "cell_type": "code",
   "execution_count": 6,
   "id": "d28f8b5c",
   "metadata": {},
   "outputs": [],
   "source": [
    "# -------------------\n",
    "# Train/Test Split\n",
    "# -------------------\n",
    "X_train, X_test, y_train, y_test = train_test_split(\n",
    "    X, y_log, test_size=0.2, random_state=42\n",
    ")"
   ]
  },
  {
   "cell_type": "code",
   "execution_count": 7,
   "id": "d8e99739",
   "metadata": {},
   "outputs": [],
   "source": [
    "# -------------------\n",
    "# Candidate Models\n",
    "# -------------------\n",
    "models = {\n",
    "    \"RandomForest\": RandomForestRegressor(random_state=42),\n",
    "    \"HistGB\": HistGradientBoostingRegressor(random_state=42),\n",
    "    \"GradientBoost\": GradientBoostingRegressor(random_state=42),\n",
    "    \"Ridge\": Ridge(),\n",
    "    \"Lasso\": Lasso(),\n",
    "    \"ElasticNet\": ElasticNet(),\n",
    "}\n",
    "\n",
    "param_distributions = {\n",
    "    \"RandomForest\": {\n",
    "        \"model__n_estimators\": [100, 200, 400],\n",
    "        \"model__max_depth\": [10, 20, None],\n",
    "        \"model__min_samples_split\": [2, 5, 10],\n",
    "    },\n",
    "    \"HistGB\": {\n",
    "        \"model__learning_rate\": [0.01, 0.05, 0.1],\n",
    "        \"model__max_depth\": [6, 10, None],\n",
    "        \"model__max_iter\": [200, 400],\n",
    "    },\n",
    "    \"GradientBoost\": {\n",
    "        \"model__n_estimators\": [100, 200, 400],\n",
    "        \"model__learning_rate\": [0.01, 0.05, 0.1],\n",
    "        \"model__max_depth\": [3, 5, 8],\n",
    "    },\n",
    "    \"Ridge\": {\n",
    "        \"model__alpha\": np.logspace(-3, 3, 10)  \n",
    "    }, \n",
    "    \"Lasso\": {\n",
    "        \"model__alpha\": np.logspace(-4, 2, 15)   \n",
    "    },\n",
    "    \"ElasticNet\": {\n",
    "        \"model__alpha\": np.logspace(-4, 2, 10),\n",
    "        \"model__l1_ratio\": [0.1, 0.3, 0.5, 0.7, 0.9] \n",
    "    }\n",
    "}"
   ]
  },
  {
   "cell_type": "code",
   "execution_count": 8,
   "id": "5b729faa",
   "metadata": {},
   "outputs": [
    {
     "name": "stdout",
     "output_type": "stream",
     "text": [
      "\n",
      "🔹 Training RandomForest...\n",
      "✅ RandomForest: RMSE=0.1439, R²=0.9831\n",
      "\n",
      "🔹 Training HistGB...\n",
      "✅ HistGB: RMSE=0.2832, R²=0.9345\n",
      "\n",
      "🔹 Training GradientBoost...\n",
      "✅ GradientBoost: RMSE=0.2849, R²=0.9337\n",
      "\n",
      "🔹 Training Ridge...\n",
      "✅ Ridge: RMSE=0.4500, R²=0.8347\n",
      "\n",
      "🔹 Training Lasso...\n",
      "✅ Lasso: RMSE=0.4505, R²=0.8344\n",
      "\n",
      "🔹 Training ElasticNet...\n",
      "✅ ElasticNet: RMSE=0.4890, R²=0.8048\n"
     ]
    }
   ],
   "source": [
    "# -------------------\n",
    "# Train & Evaluate\n",
    "# -------------------\n",
    "best_models = {}\n",
    "results = []\n",
    "\n",
    "for name, model in models.items():\n",
    "    print(f\"\\n🔹 Training {name}...\")\n",
    "    \n",
    "    pipe = Pipeline(steps=[\n",
    "        (\"preprocessor\", preprocessor),\n",
    "        (\"model\", model)\n",
    "    ])\n",
    "    \n",
    "    search = RandomizedSearchCV(\n",
    "        pipe,\n",
    "        param_distributions=param_distributions.get(name, {}),\n",
    "        n_iter=5, cv=3,\n",
    "        scoring=\"neg_root_mean_squared_error\",\n",
    "        n_jobs=-1,\n",
    "        random_state=42\n",
    "    )\n",
    "    \n",
    "    search.fit(X_train, y_train)\n",
    "    \n",
    "    best_models[name] = search.best_estimator_\n",
    "    \n",
    "    # Evaluate\n",
    "    y_pred = search.best_estimator_.predict(X_test)\n",
    "    mse = mean_squared_error(y_test, y_pred)\n",
    "    rmse = np.sqrt(mse)\n",
    "\n",
    "    r2 = r2_score(y_test, y_pred)\n",
    "    \n",
    "    print(f\"✅ {name}: RMSE={rmse:.4f}, R²={r2:.4f}\")\n",
    "    results.append((name, rmse, r2))"
   ]
  },
  {
   "cell_type": "code",
   "execution_count": 9,
   "id": "067c51ab",
   "metadata": {},
   "outputs": [
    {
     "name": "stdout",
     "output_type": "stream",
     "text": [
      "\n",
      "📊 Results:\n",
      "           Model      RMSE        R2\n",
      "0   RandomForest  0.143887  0.983103\n",
      "1         HistGB  0.283213  0.934536\n",
      "2  GradientBoost  0.284909  0.933749\n",
      "3          Ridge  0.450038  0.834699\n",
      "4          Lasso  0.450484  0.834371\n",
      "5     ElasticNet  0.488995  0.804842\n",
      "\n",
      "🏆 Best Model: RandomForest\n"
     ]
    },
    {
     "data": {
      "text/plain": [
       "['best_model_RandomForest.joblib']"
      ]
     },
     "execution_count": 9,
     "metadata": {},
     "output_type": "execute_result"
    }
   ],
   "source": [
    "# -------------------\n",
    "# Pick Best Model\n",
    "# -------------------\n",
    "results_df = pd.DataFrame(results, columns=[\"Model\", \"RMSE\", \"R2\"]).sort_values(\"RMSE\")\n",
    "print(\"\\n📊 Results:\")\n",
    "print(results_df)\n",
    "\n",
    "best_name = results_df.iloc[0][\"Model\"]\n",
    "best_model = best_models[best_name]\n",
    "\n",
    "print(f\"\\n🏆 Best Model: {best_name}\")\n",
    "joblib.dump(best_model, f\"best_model_{best_name}.joblib\")"
   ]
  },
  {
   "cell_type": "code",
   "execution_count": 10,
   "id": "0f9f9b6b",
   "metadata": {},
   "outputs": [
    {
     "name": "stdout",
     "output_type": "stream",
     "text": [
      "Sample predictions vs actual values:\n",
      "Predicted: 11.11, Actual: 11.15\n",
      "Predicted: 9.63, Actual: 9.90\n",
      "Predicted: 10.22, Actual: 10.84\n",
      "Predicted: 12.07, Actual: 12.03\n",
      "Predicted: 11.12, Actual: 10.94\n"
     ]
    }
   ],
   "source": [
    "#--------\n",
    "# Make predictions on a few samples\n",
    "#--------\n",
    "print(\"Sample predictions vs actual values:\")\n",
    "for i in range(5):\n",
    "    print(f\"Predicted: {y_pred[i]:.2f}, Actual: {y_test.iloc[i]:.2f}\")\n"
   ]
  },
  {
   "cell_type": "code",
   "execution_count": 11,
   "id": "3869e23c",
   "metadata": {},
   "outputs": [
    {
     "data": {
      "image/png": "[encoded data removed]",
      "text/plain": [
       "<Figure size 640x480 with 1 Axes>"
      ]
     },
     "metadata": {},
     "output_type": "display_data"
    }
   ],
   "source": [
    "import matplotlib.pyplot as plt\n",
    "\n",
    "plt.scatter(y_test, y_pred, alpha=0.5)\n",
    "plt.xlabel(\"Actual Yield\")\n",
    "plt.ylabel(\"Predicted Yield\")\n",
    "plt.title(\"Predicted vs Actual Yield\")\n",
    "plt.show()\n"
   ]
  },
  {
   "cell_type": "code",
   "execution_count": 12,
   "id": "1f0fb746",
   "metadata": {},
   "outputs": [],
   "source": [
    "#-----------------\n",
    "# Example new input\n",
    "#-----------------\n",
    "new_data = pd.DataFrame([{\n",
    "    \"Area\": \"India\",\n",
    "    \"Item\": \"Maize\",\n",
    "    \"Year\": 2020,\n",
    "    \"average_rain_fall_mm_per_year\": 1200,\n",
    "    \"pesticides_tonnes\": 500,\n",
    "    \"avg_temp\": 25\n",
    "}])\n"
   ]
  },
  {
   "cell_type": "code",
   "execution_count": 13,
   "id": "86ed1d97",
   "metadata": {},
   "outputs": [
    {
     "name": "stdout",
     "output_type": "stream",
     "text": [
      "Predicted Yield: 10.381391870477872\n"
     ]
    }
   ],
   "source": [
    "predicted_yield = search.best_estimator_.predict(new_data)\n",
    "print(\"Predicted Yield:\", predicted_yield[0])\n"
   ]
  },
  {
   "cell_type": "code",
   "execution_count": null,
   "id": "51c84e54",
   "metadata": {},
   "outputs": [],
   "source": []
  }
 ],
 "metadata": {
  "kernelspec": {
   "display_name": "Python 3",
   "language": "python",
   "name": "python3"
  },
  "language_info": {
   "codemirror_mode": {
    "name": "ipython",
    "version": 3
   },
   "file_extension": ".py",
   "mimetype": "text/x-python",
   "name": "python",
   "nbconvert_exporter": "python",
   "pygments_lexer": "ipython3",
   "version": "3.12.5"
  }
 },
 "nbformat": 4,
 "nbformat_minor": 5
}
